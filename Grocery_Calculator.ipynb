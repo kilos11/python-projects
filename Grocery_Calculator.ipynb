{
  "nbformat": 4,
  "nbformat_minor": 0,
  "metadata": {
    "colab": {
      "provenance": [],
      "authorship_tag": "ABX9TyOm4Lekg8cBWCKqgOD1Mzsd",
      "include_colab_link": true
    },
    "kernelspec": {
      "name": "python3",
      "display_name": "Python 3"
    },
    "language_info": {
      "name": "python"
    }
  },
  "cells": [
    {
      "cell_type": "markdown",
      "metadata": {
        "id": "view-in-github",
        "colab_type": "text"
      },
      "source": [
        "<a href=\"https://colab.research.google.com/github/kilos11/python-projects/blob/main/Grocery_Calculator.ipynb\" target=\"_parent\"><img src=\"https://colab.research.google.com/assets/colab-badge.svg\" alt=\"Open In Colab\"/></a>"
      ]
    },
    {
      "cell_type": "code",
      "execution_count": 2,
      "metadata": {
        "colab": {
          "base_uri": "https://localhost:8080/"
        },
        "id": "FEvbjoZcLe5B",
        "outputId": "5fc12d50-aced-4a68-e72f-3d7deb972ec4"
      },
      "outputs": [
        {
          "output_type": "stream",
          "name": "stdout",
          "text": [
            "10.7\n",
            "10\n",
            "{'milk': 4, 'eggs': 3, 'kombucha': 3}\n",
            "54.024300000000004\n",
            "50.49\n",
            "{'cheese': 7.49, 'wine': 25.36, 'steak': 17.64}\n"
          ]
        }
      ],
      "source": [
        "\n",
        "'''This will be a Python script that functions as a grocery calculator. It will take in key-value pairs for items\n",
        "and their prices, and return the subtotal and total, and can print out the list for you for when you're ready to\n",
        "take it to the store!'''\n",
        "\n",
        "'''Algorithm:\n",
        "1. User enters key-value pairs that are added into a dict.\n",
        "2. Users tells script to return total, subtotal, and key-value pairs in a nicely formatted list.'''\n",
        "\n",
        "#Object = GroceryList\n",
        "#Methods = addToList, Total, Subtotal, returnList\n",
        "\n",
        "class GroceryList(dict):\n",
        "\n",
        "    def __init__(self):\n",
        "        self = {}\n",
        "\n",
        "    def addToList(self, item, price):\n",
        "            self.update({item:price})\n",
        "\n",
        "    def Total(self):\n",
        "        total = 0\n",
        "        for items in self:\n",
        "            total += (self[items])*.07 + (self[items])\n",
        "        return total\n",
        "\n",
        "    def Subtotal(self):\n",
        "        subtotal = 0\n",
        "        for items in self:\n",
        "            subtotal += self[items]\n",
        "        return subtotal\n",
        "\n",
        "    def returnList(self):\n",
        "        return self\n",
        "\n",
        "'''Test list should return:\n",
        "Total = 10.70\n",
        "Subtotal = 10\n",
        "returnList = {\"milk\":4, \"eggs\":3, \"kombucha\":3}\n",
        "'''\n",
        "List1 = GroceryList()\n",
        "\n",
        "List1.addToList(\"milk\",4)\n",
        "List1.addToList(\"eggs\", 3)\n",
        "List1.addToList(\"kombucha\", 3)\n",
        "\n",
        "\n",
        "print (List1.Total())\n",
        "print (List1.Subtotal())\n",
        "print (List1.returnList())\n",
        "\n",
        "#*****************************************************\n",
        "\n",
        "#*****************************************************\n",
        "\n",
        "\n",
        "List2 = GroceryList()\n",
        "\n",
        "List2.addToList('cheese', 7.49)\n",
        "List2.addToList('wine', 25.36)\n",
        "List2.addToList('steak', 17.64)\n",
        "\n",
        "print (List2.Total())\n",
        "print (List2.Subtotal())\n",
        "print (List2.returnList())"
      ]
    }
  ]
}