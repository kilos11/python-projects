{
  "nbformat": 4,
  "nbformat_minor": 0,
  "metadata": {
    "colab": {
      "provenance": [],
      "mount_file_id": "15waauJhfGxSAAxeoeJ--JnBYECK2hy05",
      "authorship_tag": "ABX9TyNwYgvzoeHIdHOxmlc76lp4",
      "include_colab_link": true
    },
    "kernelspec": {
      "name": "python3",
      "display_name": "Python 3"
    },
    "language_info": {
      "name": "python"
    }
  },
  "cells": [
    {
      "cell_type": "markdown",
      "metadata": {
        "id": "view-in-github",
        "colab_type": "text"
      },
      "source": [
        "<a href=\"https://colab.research.google.com/github/kilos11/python-projects/blob/main/YouTube__video__downloader.ipynb\" target=\"_parent\"><img src=\"https://colab.research.google.com/assets/colab-badge.svg\" alt=\"Open In Colab\"/></a>"
      ]
    },
    {
      "cell_type": "code",
      "source": [
        "\n",
        "import requests\n",
        "from bs4 import BeautifulSoup\n",
        "\n",
        "'''\n",
        "URL of the archive web-page which provides link to\n",
        "all video lectures. It would have been tiring to\n",
        "download each video manually.\n",
        "In this example, we first crawl the webpage to extract\n",
        "all the links and then download videos.\n",
        "'''\n",
        "\n",
        "# specify the URL of the archive here\n",
        "archive_url = \"http://www-personal.umich.edu/~csev/books/py4inf/media/\"\n",
        "\n",
        "\n",
        "def get_video_links():\n",
        "    # create response object\n",
        "    r = requests.get(archive_url)\n",
        "\n",
        "    # create beautiful-soup object\n",
        "    soup = BeautifulSoup(r.content, 'html5lib')\n",
        "\n",
        "    # find all links on web-page\n",
        "    links = soup.findAll('a')\n",
        "\n",
        "    # filter the link sending with .mp4\n",
        "    video_links = [archive_url + link['href'] for link in links if link['href'].endswith('mp4')]\n",
        "\n",
        "    return video_links\n",
        "\n",
        "\n",
        "def download_video_series(video_links):\n",
        "    for link in video_links:\n",
        "\n",
        "        '''iterate through all links in video_links\n",
        "        and download them one by one'''\n",
        "\n",
        "        # obtain filename by splitting url and getting\n",
        "        # last string\n",
        "        file_name = link.split('/')[-1]\n",
        "\n",
        "        print(\"Downloading the file:%s\" % file_name)\n",
        "\n",
        "        # create response object\n",
        "        r = requests.get(link, stream=True)\n",
        "\n",
        "        # download started\n",
        "        with open(file_name, 'wb') as f:\n",
        "            for chunk in r.iter_content(chunk_size=1024 * 1024):\n",
        "                if chunk:\n",
        "                    f.write(chunk)\n",
        "\n",
        "        print(\"%s downloaded!\\n\" % file_name)\n",
        "\n",
        "    print(\"All videos are downloaded!\")\n",
        "    return\n",
        "\n",
        "\n",
        "if __name__ == \"__main__\":\n",
        "    # getting all video links\n",
        "    video_links = get_video_links()\n",
        "\n",
        "    # download all videos\n",
        "    download_video_series(video_links)"
      ],
      "metadata": {
        "colab": {
          "base_uri": "https://localhost:8080/"
        },
        "id": "m39PexuxShWq",
        "outputId": "219bc25b-8eec-45a5-f124-cdbcda924fe5"
      },
      "execution_count": 15,
      "outputs": [
        {
          "output_type": "stream",
          "name": "stdout",
          "text": [
            "All videos are downloaded!\n"
          ]
        }
      ]
    }
  ]
}