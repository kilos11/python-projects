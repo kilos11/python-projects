{
  "nbformat": 4,
  "nbformat_minor": 0,
  "metadata": {
    "colab": {
      "provenance": [],
      "authorship_tag": "ABX9TyMrOfW7DB/5Xt/Ekjx4v3Ao",
      "include_colab_link": true
    },
    "kernelspec": {
      "name": "python3",
      "display_name": "Python 3"
    },
    "language_info": {
      "name": "python"
    }
  },
  "cells": [
    {
      "cell_type": "markdown",
      "metadata": {
        "id": "view-in-github",
        "colab_type": "text"
      },
      "source": [
        "<a href=\"https://colab.research.google.com/github/kilos11/python-projects/blob/main/Language_Translate.ipynb\" target=\"_parent\"><img src=\"https://colab.research.google.com/assets/colab-badge.svg\" alt=\"Open In Colab\"/></a>"
      ]
    },
    {
      "cell_type": "code",
      "source": [
        "!pip install translate"
      ],
      "metadata": {
        "colab": {
          "base_uri": "https://localhost:8080/"
        },
        "id": "iqj7NWUgHCER",
        "outputId": "60dea5a8-b6ef-4139-e90c-8863f3f2ba47"
      },
      "execution_count": 2,
      "outputs": [
        {
          "output_type": "stream",
          "name": "stdout",
          "text": [
            "Collecting translate\n",
            "  Downloading translate-3.6.1-py2.py3-none-any.whl (12 kB)\n",
            "Requirement already satisfied: click in /usr/local/lib/python3.10/dist-packages (from translate) (8.1.7)\n",
            "Requirement already satisfied: lxml in /usr/local/lib/python3.10/dist-packages (from translate) (4.9.4)\n",
            "Requirement already satisfied: requests in /usr/local/lib/python3.10/dist-packages (from translate) (2.31.0)\n",
            "Collecting libretranslatepy==2.1.1 (from translate)\n",
            "  Downloading libretranslatepy-2.1.1-py3-none-any.whl (3.2 kB)\n",
            "Requirement already satisfied: charset-normalizer<4,>=2 in /usr/local/lib/python3.10/dist-packages (from requests->translate) (3.3.2)\n",
            "Requirement already satisfied: idna<4,>=2.5 in /usr/local/lib/python3.10/dist-packages (from requests->translate) (3.6)\n",
            "Requirement already satisfied: urllib3<3,>=1.21.1 in /usr/local/lib/python3.10/dist-packages (from requests->translate) (2.0.7)\n",
            "Requirement already satisfied: certifi>=2017.4.17 in /usr/local/lib/python3.10/dist-packages (from requests->translate) (2023.11.17)\n",
            "Installing collected packages: libretranslatepy, translate\n",
            "Successfully installed libretranslatepy-2.1.1 translate-3.6.1\n"
          ]
        }
      ]
    },
    {
      "cell_type": "code",
      "execution_count": 3,
      "metadata": {
        "id": "QLjvlTI_F_nf"
      },
      "outputs": [],
      "source": [
        "import argparse\n",
        "from translate import Translator"
      ]
    },
    {
      "cell_type": "code",
      "source": [
        "def main():\n",
        "    parser = argparse.ArgumentParser()\n",
        "    parser.add_argument(\"--from_lang\", help=\"Language to translate from.\", type=str)\n",
        "    parser.add_argument(\n",
        "        \"--to_lang\", help=\"Language to translate to. (defaults to English)\", type=str\n",
        "    )\n",
        "    text = input(\"Enter text to translate: \")\n",
        "    args = parser.parse_args()\n",
        "    if args.from_lang:\n",
        "        translator = Translator(\n",
        "            to_lang=args.to_lang if args.to_lang else \"English\",\n",
        "            from_lang=args.from_lang,\n",
        "        )\n",
        "    else:\n",
        "        translator = Translator(to_lang=args.to_lang if args.to_lang else \"English\")\n",
        "    try:\n",
        "        translation = translator.translate(text)\n",
        "    except Exception:\n",
        "        print(\"Translation Error. Returning...\")\n",
        "        return None\n",
        "    print(translation)\n",
        "\n",
        "\n",
        "if __name__ == \"__main__\":\n",
        "    main()"
      ],
      "metadata": {
        "id": "Ol0quKNNHKn4"
      },
      "execution_count": null,
      "outputs": []
    }
  ]
}