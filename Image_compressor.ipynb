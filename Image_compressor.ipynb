{
  "nbformat": 4,
  "nbformat_minor": 0,
  "metadata": {
    "colab": {
      "provenance": [],
      "authorship_tag": "ABX9TyNHkIeV6nw2FrxccZD1s7Zq",
      "include_colab_link": true
    },
    "kernelspec": {
      "name": "python3",
      "display_name": "Python 3"
    },
    "language_info": {
      "name": "python"
    }
  },
  "cells": [
    {
      "cell_type": "markdown",
      "metadata": {
        "id": "view-in-github",
        "colab_type": "text"
      },
      "source": [
        "<a href=\"https://colab.research.google.com/github/kilos11/python-projects/blob/main/Image_compressor.ipynb\" target=\"_parent\"><img src=\"https://colab.research.google.com/assets/colab-badge.svg\" alt=\"Open In Colab\"/></a>"
      ]
    },
    {
      "cell_type": "code",
      "execution_count": 1,
      "metadata": {
        "id": "hE7qEQ_DE9cK"
      },
      "outputs": [],
      "source": [
        "from PIL import Image\n",
        "from tkinter.filedialog import askopenfilename\n",
        "import argparse\n",
        "import os"
      ]
    },
    {
      "cell_type": "code",
      "source": [
        "def compressImage(input_file, output_dir, quality=85, format=\"JPEG\"):\n",
        "    try:\n",
        "        img = Image.open(input_file)\n",
        "        img = img.resize(img.size, Image.ANTIALIAS)\n",
        "        output_filename = os.path.join(\n",
        "            output_dir, \"compressed_\" + os.path.basename(input_file)\n",
        "        )\n",
        "        img.save(output_filename, format=format, quality=quality)\n",
        "        print(f\"Image compressed and saved as '{output_filename}'\")\n",
        "    except Exception as e:\n",
        "        print(f\"Error: {str(e)}\")\n",
        "\n",
        "\n",
        "if __name__ == \"__main__\":\n",
        "    parser = argparse.ArgumentParser(description=\"Image Compression Tool\")\n",
        "    parser.add_argument(\"input\", type=str, help=\"Input image file\")\n",
        "    parser.add_argument(\n",
        "        \"-o\",\n",
        "        \"--output_dir\",\n",
        "        type=str,\n",
        "        default=\"./compressed\",\n",
        "        help=\"Output directory for compressed image\",\n",
        "    )\n",
        "    parser.add_argument(\n",
        "        \"-q\",\n",
        "        \"--quality\",\n",
        "        type=int,\n",
        "        default=85,\n",
        "        help=\"Compression quality (0-100, higher is better)\",\n",
        "    )\n",
        "    parser.add_argument(\n",
        "        \"-f\",\n",
        "        \"--format\",\n",
        "        type=str,\n",
        "        default=\"JPEG\",\n",
        "        help=\"Output image format (e.g., JPEG, PNG)\",\n",
        "    )\n",
        "\n",
        "    args = parser.parse_args()\n",
        "\n",
        "    # Create the output directory if it doesn't exist\n",
        "    os.makedirs(args.output_dir, exist_ok=True)\n",
        "\n",
        "    compressImage(args.input, args.output_dir, args.quality, args.format)"
      ],
      "metadata": {
        "id": "0xefSA9wFf4q"
      },
      "execution_count": null,
      "outputs": []
    }
  ]
}