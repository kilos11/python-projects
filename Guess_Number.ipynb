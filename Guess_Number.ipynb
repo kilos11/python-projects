{
  "nbformat": 4,
  "nbformat_minor": 0,
  "metadata": {
    "colab": {
      "provenance": [],
      "authorship_tag": "ABX9TyOmffqAE+ScBmDAq8dapL19",
      "include_colab_link": true
    },
    "kernelspec": {
      "name": "python3",
      "display_name": "Python 3"
    },
    "language_info": {
      "name": "python"
    }
  },
  "cells": [
    {
      "cell_type": "markdown",
      "metadata": {
        "id": "view-in-github",
        "colab_type": "text"
      },
      "source": [
        "<a href=\"https://colab.research.google.com/github/kilos11/python-projects/blob/main/Guess_Number.ipynb\" target=\"_parent\"><img src=\"https://colab.research.google.com/assets/colab-badge.svg\" alt=\"Open In Colab\"/></a>"
      ]
    },
    {
      "cell_type": "code",
      "execution_count": 1,
      "metadata": {
        "id": "hEUeN6ujC0tr"
      },
      "outputs": [],
      "source": [
        "import tkinter as tk\n",
        "from tkinter import messagebox\n",
        "import random\n",
        "import sys  # Import the sys module for exiting the application\n"
      ]
    },
    {
      "cell_type": "code",
      "source": [
        "# Define upper and lower bounds for the game\n",
        "lower_limit = 1\n",
        "upper_limit = 10\n",
        "secret_number = random.randint(lower_limit, upper_limit)\n"
      ],
      "metadata": {
        "id": "w9_1yXMcDCwL"
      },
      "execution_count": 2,
      "outputs": []
    },
    {
      "cell_type": "code",
      "source": [
        "# Function to check if the user's guess is correct\n",
        "def check_guess():\n",
        "    user_guess = int(guess_entry.get())\n",
        "    if user_guess == secret_number:\n",
        "        messagebox.showinfo(\"Congratulations\", \"Congratulations! You guessed it!\")\n",
        "    elif user_guess < secret_number:\n",
        "        result_label.config(text=\"Try a higher number.\")\n",
        "    else:\n",
        "        result_label.config(text=\"Try a lower number.\")\n"
      ],
      "metadata": {
        "id": "dmPsWNkZDFcq"
      },
      "execution_count": 3,
      "outputs": []
    },
    {
      "cell_type": "code",
      "source": [
        "# Function to exit the application\n",
        "def exit_game():\n",
        "    root.destroy()  # Close the Tkinter window and exit the application\n"
      ],
      "metadata": {
        "id": "lX2YFfybDLaK"
      },
      "execution_count": 4,
      "outputs": []
    },
    {
      "cell_type": "code",
      "source": [
        "# Create the main application window\n",
        "root = tk.Tk()\n",
        "root.title(\"Number Guessing Game\")\n",
        "root.geometry(\"400x200\")"
      ],
      "metadata": {
        "id": "Zxezk1LJDRqC"
      },
      "execution_count": null,
      "outputs": []
    },
    {
      "cell_type": "code",
      "source": [
        "# Change the background color of the window and label to salmon\n",
        "root.configure(bg=\"pink1\")"
      ],
      "metadata": {
        "id": "Xww8EbJcDWTK"
      },
      "execution_count": null,
      "outputs": []
    },
    {
      "cell_type": "code",
      "source": [
        "# Create and place widgets using grid\n",
        "instructions_label = tk.Label(\n",
        "    root, text=f\"Guess a number between {lower_limit} and {upper_limit}:\", bg=\"pink1\"\n",
        ")\n",
        "instructions_label.grid(row=0, column=0, columnspan=2)\n",
        "\n",
        "guess_entry = tk.Entry(root)\n",
        "guess_entry.grid(row=1, column=0, columnspan=2)\n",
        "\n",
        "guess_button = tk.Button(root, text=\"Guess\", command=check_guess)\n",
        "guess_button.grid(row=2, column=0)\n",
        "\n",
        "exit_button = tk.Button(root, text=\"Exit\", command=exit_game)\n",
        "exit_button.grid(row=2, column=1)\n",
        "\n",
        "result_label = tk.Label(root, text=\"\", bg=\"pink1\")\n",
        "result_label.grid(row=3, column=0, columnspan=2)"
      ],
      "metadata": {
        "id": "IazNrrLWDcxL"
      },
      "execution_count": null,
      "outputs": []
    },
    {
      "cell_type": "code",
      "source": [
        "# Center-align the widgets\n",
        "root.grid_rowconfigure(0, weight=1)\n",
        "root.grid_rowconfigure(1, weight=1)\n",
        "root.grid_rowconfigure(2, weight=1)\n",
        "root.grid_rowconfigure(3, weight=1)\n",
        "root.grid_columnconfigure(0, weight=1)\n",
        "root.grid_columnconfigure(1, weight=1)\n",
        "\n",
        "# Run the main loop\n",
        "root.mainloop()"
      ],
      "metadata": {
        "id": "D3Yw1DIaDh3q"
      },
      "execution_count": null,
      "outputs": []
    }
  ]
}