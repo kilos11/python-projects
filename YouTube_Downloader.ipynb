{
  "nbformat": 4,
  "nbformat_minor": 0,
  "metadata": {
    "colab": {
      "provenance": [],
      "authorship_tag": "ABX9TyPtu1tHiSIUdagPE4vJD8R6",
      "include_colab_link": true
    },
    "kernelspec": {
      "name": "python3",
      "display_name": "Python 3"
    },
    "language_info": {
      "name": "python"
    }
  },
  "cells": [
    {
      "cell_type": "markdown",
      "metadata": {
        "id": "view-in-github",
        "colab_type": "text"
      },
      "source": [
        "<a href=\"https://colab.research.google.com/github/kilos11/python-projects/blob/main/YouTube_Downloader.ipynb\" target=\"_parent\"><img src=\"https://colab.research.google.com/assets/colab-badge.svg\" alt=\"Open In Colab\"/></a>"
      ]
    },
    {
      "cell_type": "code",
      "source": [
        "! pip install pytube"
      ],
      "metadata": {
        "colab": {
          "base_uri": "https://localhost:8080/"
        },
        "id": "tM4rfJmFJFZ0",
        "outputId": "56279797-3867-4bd0-d6a5-24433dff3516"
      },
      "execution_count": 2,
      "outputs": [
        {
          "output_type": "stream",
          "name": "stdout",
          "text": [
            "Collecting pytube\n",
            "  Downloading pytube-15.0.0-py3-none-any.whl (57 kB)\n",
            "\u001b[?25l     \u001b[90m━━━━━━━━━━━━━━━━━━━━━━━━━━━━━━━━━━━━━━━━\u001b[0m \u001b[32m0.0/57.6 kB\u001b[0m \u001b[31m?\u001b[0m eta \u001b[36m-:--:--\u001b[0m\r\u001b[2K     \u001b[90m━━━━━━━━━━━━━━━━━━━━━━━━━━━━━━━━━━━━━━━━\u001b[0m \u001b[32m57.6/57.6 kB\u001b[0m \u001b[31m2.0 MB/s\u001b[0m eta \u001b[36m0:00:00\u001b[0m\n",
            "\u001b[?25hInstalling collected packages: pytube\n",
            "Successfully installed pytube-15.0.0\n"
          ]
        }
      ]
    },
    {
      "cell_type": "code",
      "execution_count": 3,
      "metadata": {
        "colab": {
          "base_uri": "https://localhost:8080/"
        },
        "id": "-fzXzXNbIqWc",
        "outputId": "1663d2e8-8e61-4f1b-8a19-20145d73a052"
      },
      "outputs": [
        {
          "output_type": "stream",
          "name": "stdout",
          "text": [
            "Enter the url of video : https://m.youtube.com/watch?v=zTrrCYtrHUw\n",
            "title : 🔴⚫️ This is what Xabi Alonso did after Bayer Leverkusen Defeated Bayern Munich (3-0)\n",
            "\n",
            "1 => resolution:360p/fps:24/type:video\n",
            "2 => resolution:720p/fps:24/type:video\n",
            "3 => resolution:1080p/fps:24/type:video\n",
            "4 => resolution:1080p/fps:24/type:video\n",
            "5 => resolution:720p/fps:24/type:video\n",
            "6 => resolution:720p/fps:24/type:video\n",
            "7 => resolution:480p/fps:24/type:video\n",
            "8 => resolution:480p/fps:24/type:video\n",
            "9 => resolution:360p/fps:24/type:video\n",
            "10 => resolution:360p/fps:24/type:video\n",
            "11 => resolution:240p/fps:24/type:video\n",
            "12 => resolution:240p/fps:24/type:video\n",
            "13 => resolution:144p/fps:24/type:video\n",
            "14 => resolution:144p/fps:24/type:video\n",
            "'Stream' object has no attribute 'fps'\n"
          ]
        }
      ],
      "source": [
        "\n",
        "\n",
        "\n",
        "# libraraies\n",
        "\n",
        "import pytube\n",
        "import sys\n",
        "\n",
        "\n",
        "class YouTubeDownloder:\n",
        "    def __init__(self):\n",
        "        self.url = str(input(\"Enter the url of video : \"))\n",
        "        self.youtube = pytube.YouTube(\n",
        "            self.url, on_progress_callback=YouTubeDownloder.onProgress)\n",
        "        self.showTitle()\n",
        "\n",
        "    def showTitle(self):\n",
        "        print(\"title : {0}\\n\".format(self.youtube.title))\n",
        "        self.showStreams()\n",
        "\n",
        "    def showStreams(self):\n",
        "        self.streamNo = 1\n",
        "        for stream in self.youtube.streams:\n",
        "            print(\"{0} => resolution:{1}/fps:{2}/type:{3}\".format(self.streamNo,\n",
        "                                                                  stream.resolution, stream.fps, stream.type))\n",
        "            self.streamNo += 1\n",
        "        self.chooseStream()\n",
        "\n",
        "    def chooseStream(self):\n",
        "        self.choose = int(input(\"please select one : \"))\n",
        "        self.validateChooseValue()\n",
        "\n",
        "    def validateChooseValue(self):\n",
        "        if self.choose in range(1, self.streamNo):\n",
        "            self.getStream()\n",
        "        else:\n",
        "            print(\"please enter a correct option on the list.\")\n",
        "            self.chooseStream()\n",
        "\n",
        "    def getStream(self):\n",
        "        self.stream = self.youtube.streams[self.choose-1]\n",
        "        self.getFileSize()\n",
        "\n",
        "    def getFileSize(self):\n",
        "        global file_size\n",
        "        file_size = self.stream.filesize / 1000000\n",
        "        self.getPermisionToContinue()\n",
        "\n",
        "    def getPermisionToContinue(self):\n",
        "        print(\"\\n title : {0} \\n author : {1} \\n size : {2:.2f}MB \\n resolution : {3} \\n fps : {4} \\n \".format(\n",
        "            self.youtube.title, self.youtube.author, file_size, self.stream.resolution, self.stream.fps))\n",
        "        if input(\"do you want it ?(defualt = (y)es) or (n)o \") == \"n\":\n",
        "            self.showStreams()\n",
        "        else:\n",
        "            self.main()\n",
        "\n",
        "    def download(self):\n",
        "        self.stream.download()\n",
        "\n",
        "    @staticmethod\n",
        "    def onProgress(stream=None, chunk=None,  remaining=None):\n",
        "        file_downloaded = (file_size-(remaining/1000000))\n",
        "        print(\n",
        "            f\"downloading ... {file_downloaded/file_size*100:0.2f} % [{file_downloaded:.1f}MB of {file_size:.1f}MB]\", end=\"\\r\")\n",
        "\n",
        "    def main(self):\n",
        "        try:\n",
        "            self.download()\n",
        "        except KeyboardInterrupt:\n",
        "            print(\"Canceled. \")\n",
        "            sys.exit(0)\n",
        "\n",
        "\n",
        "if __name__ == \"__main__\":\n",
        "    try:\n",
        "        YouTubeDownloder()\n",
        "    except KeyboardInterrupt:\n",
        "        pass\n",
        "    except Exception as e:\n",
        "        print(e)"
      ]
    }
  ]
}