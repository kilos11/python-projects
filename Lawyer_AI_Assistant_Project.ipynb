{
  "nbformat": 4,
  "nbformat_minor": 0,
  "metadata": {
    "colab": {
      "provenance": [],
      "authorship_tag": "ABX9TyO7EA7OTt/QHJNgj7J7U49z",
      "include_colab_link": true
    },
    "kernelspec": {
      "name": "python3",
      "display_name": "Python 3"
    },
    "language_info": {
      "name": "python"
    }
  },
  "cells": [
    {
      "cell_type": "markdown",
      "metadata": {
        "id": "view-in-github",
        "colab_type": "text"
      },
      "source": [
        "<a href=\"https://colab.research.google.com/github/kilos11/python-projects/blob/main/Lawyer_AI_Assistant_Project.ipynb\" target=\"_parent\"><img src=\"https://colab.research.google.com/assets/colab-badge.svg\" alt=\"Open In Colab\"/></a>"
      ]
    },
    {
      "cell_type": "code",
      "execution_count": 1,
      "metadata": {
        "colab": {
          "base_uri": "https://localhost:8080/"
        },
        "id": "Kzo-HKfnHlBg",
        "outputId": "9ef5842a-dd55-4922-ecd5-d452751f93e1"
      },
      "outputs": [
        {
          "output_type": "stream",
          "name": "stderr",
          "text": [
            "[nltk_data] Downloading package punkt to /root/nltk_data...\n",
            "[nltk_data]   Unzipping tokenizers/punkt.zip.\n",
            "[nltk_data] Downloading package stopwords to /root/nltk_data...\n",
            "[nltk_data]   Unzipping corpora/stopwords.zip.\n"
          ]
        },
        {
          "output_type": "execute_result",
          "data": {
            "text/plain": [
              "True"
            ]
          },
          "metadata": {},
          "execution_count": 1
        }
      ],
      "source": [
        "import nltk\n",
        "import os\n",
        "import re\n",
        "import numpy as np\n",
        "from sklearn.feature_extraction.text import TfidfVectorizer\n",
        "from sklearn.metrics.pairwise import cosine_similarity\n",
        "\n",
        "# Make sure you have NLTK data downloaded for tokenization and stopwords\n",
        "nltk.download(\"punkt\")\n",
        "nltk.download(\"stopwords\")\n",
        ""
      ]
    },
    {
      "cell_type": "code",
      "source": [
        "# Define a function to load legal documents from a directory\n",
        "def load_legal_documents(directory_path):\n",
        "    documents = []\n",
        "    for filename in os.listdir(directory_path):\n",
        "        if filename.endswith(\".txt\"):\n",
        "            with open(os.path.join(directory_path, filename), \"r\", encoding=\"utf-8\") as file:\n",
        "                document_text = file.read()\n",
        "                documents.append(document_text)\n",
        "    return documents\n",
        "\n",
        "# Load legal documents from a directory (replace 'your_directory' with the actual path)\n",
        "legal_documents_directory = \"your_directory\"\n",
        "legal_documents = load_legal_documents(legal_documents_directory)"
      ],
      "metadata": {
        "id": "HkOXRhi5HzOo"
      },
      "execution_count": null,
      "outputs": []
    },
    {
      "cell_type": "code",
      "source": [
        "# Preprocess and tokenize legal documents\n",
        "def preprocess_documents(documents):\n",
        "    processed_documents = []\n",
        "    for document in documents:\n",
        "        # Tokenize sentences\n",
        "        sentences = nltk.sent_tokenize(document)\n",
        "\n",
        "        # Tokenize words and remove stopwords\n",
        "        words = [word for word in nltk.word_tokenize(document.lower()) if word.isalnum() and word not in nltk.corpus.stopwords.words(\"english\")]\n",
        "\n",
        "        # Combine sentences and words\n",
        "        processed_documents.append(\" \".join(sentences + words))\n",
        "    return processed_documents\n",
        "\n",
        "processed_legal_documents = preprocess_documents(legal_documents)"
      ],
      "metadata": {
        "id": "oRTpoGMYH-_X"
      },
      "execution_count": null,
      "outputs": []
    },
    {
      "cell_type": "code",
      "source": [
        "# Create TF-IDF vectorizer\n",
        "tfidf_vectorizer = TfidfVectorizer()\n",
        "\n",
        "# Fit and transform the documents\n",
        "tfidf_matrix = tfidf_vectorizer.fit_transform(processed_legal_documents)\n",
        "\n",
        "# Define a function to search for relevant legal documents\n",
        "def search_legal_documents(query, tfidf_matrix, documents):\n",
        "    # Preprocess the query\n",
        "    processed_query = preprocess_documents([query])[0]\n",
        "\n",
        "    # Transform the query using the TF-IDF vectorizer\n",
        "    query_vector = tfidf_vectorizer.transform([processed_query])\n",
        "\n",
        "    # Calculate cosine similarity between the query and all documents\n",
        "    similarity_scores = cosine_similarity(query_vector, tfidf_matrix)\n",
        "\n",
        "    # Get the index of the most similar document\n",
        "    most_similar_index = np.argmax(similarity_scores)\n",
        "\n",
        "    # Return the most relevant legal document\n",
        "    return documents[most_similar_index]\n",
        "\n",
        "# Example query\n",
        "user_query = \"I need information about intellectual property rights.\"\n",
        "result = search_legal_documents(user_query, tfidf_matrix, legal_documents)\n",
        "print(result)\n"
      ],
      "metadata": {
        "id": "lIBDTGe0IJLH"
      },
      "execution_count": null,
      "outputs": []
    }
  ]
}