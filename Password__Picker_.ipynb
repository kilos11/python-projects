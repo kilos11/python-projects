{
  "nbformat": 4,
  "nbformat_minor": 0,
  "metadata": {
    "colab": {
      "provenance": [],
      "authorship_tag": "ABX9TyM2/jmDKtcj/gunKsQc0piS",
      "include_colab_link": true
    },
    "kernelspec": {
      "name": "python3",
      "display_name": "Python 3"
    },
    "language_info": {
      "name": "python"
    }
  },
  "cells": [
    {
      "cell_type": "markdown",
      "metadata": {
        "id": "view-in-github",
        "colab_type": "text"
      },
      "source": [
        "<a href=\"https://colab.research.google.com/github/kilos11/python-projects/blob/main/Password__Picker_.ipynb\" target=\"_parent\"><img src=\"https://colab.research.google.com/assets/colab-badge.svg\" alt=\"Open In Colab\"/></a>"
      ]
    },
    {
      "cell_type": "code",
      "execution_count": 1,
      "metadata": {
        "colab": {
          "base_uri": "https://localhost:8080/"
        },
        "id": "cw6PrlSUCjbA",
        "outputId": "8896fa75-e5a6-45a8-99fe-7001ab0e2b68"
      },
      "outputs": [
        {
          "output_type": "stream",
          "name": "stdout",
          "text": [
            "Welcome to Password Picker!\n",
            "Would you like another password? Type y or n: y\n",
            "Would you like another password? Type y or n: n\n",
            "Your new password is: orangedragon95%\n"
          ]
        }
      ],
      "source": [
        "\n",
        "import random\n",
        "import string\n",
        "\n",
        "\n",
        "print('Welcome to Password Picker!')\n",
        "\n",
        "\n",
        "\n",
        "adjectives = ['sleepy', 'slow', 'smelly',  'wet', 'fat', 'red',  'orange', 'yellow', 'green',  'blue', 'purple', 'fluffy',  'white', 'proud', 'brave']\n",
        "\n",
        "\n",
        "nouns = ['apple', 'dinosaur', 'ball',  'toaster', 'goat', 'dragon',  'hammer', 'duck', 'panda']\n",
        "\n",
        "\n",
        "\n",
        "while True:\n",
        "        adjective = random.choice(adjectives)\n",
        "\n",
        "        noun = random.choice(nouns)\n",
        "\n",
        "        number = random.randrange(0, 100)\n",
        "\n",
        "        special_char = random.choice(string.punctuation)\n",
        "\n",
        "        password = adjective + noun + str(number) + special_char\n",
        "\n",
        "        response = input('Would you like another password? Type y or n: ')\n",
        "\n",
        "        if response == 'n':\n",
        "           break\n",
        "\n",
        "print('Your new password is: %s' % password)"
      ]
    }
  ]
}