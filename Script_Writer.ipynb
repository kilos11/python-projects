{
  "nbformat": 4,
  "nbformat_minor": 0,
  "metadata": {
    "colab": {
      "provenance": [],
      "authorship_tag": "ABX9TyOB0Qzn63/GbbB0eHbM+pHo",
      "include_colab_link": true
    },
    "kernelspec": {
      "name": "python3",
      "display_name": "Python 3"
    },
    "language_info": {
      "name": "python"
    }
  },
  "cells": [
    {
      "cell_type": "markdown",
      "metadata": {
        "id": "view-in-github",
        "colab_type": "text"
      },
      "source": [
        "<a href=\"https://colab.research.google.com/github/kilos11/python-projects/blob/main/Script_Writer.ipynb\" target=\"_parent\"><img src=\"https://colab.research.google.com/assets/colab-badge.svg\" alt=\"Open In Colab\"/></a>"
      ]
    },
    {
      "cell_type": "code",
      "execution_count": null,
      "metadata": {
        "colab": {
          "base_uri": "https://localhost:8080/",
          "height": 248
        },
        "id": "qe95SnIOyf9v",
        "outputId": "8ded5e5f-a69b-4eda-da41-46346eacbe41"
      },
      "outputs": [
        {
          "output_type": "stream",
          "name": "stdout",
          "text": [
            "Unknown option - You need to pass an argument for the new script you want to create, followed by the script name.  You can use\n",
            "    -python : Python Script\n",
            "    -bash   : Bash Script\n",
            "    -ksh    : Korn Shell Script\n",
            "    -sql    : SQL Script\n"
          ]
        },
        {
          "output_type": "error",
          "ename": "SystemExit",
          "evalue": "",
          "traceback": [
            "An exception has occurred, use %tb to see the full traceback.\n",
            "\u001b[0;31mSystemExit\u001b[0m\n"
          ]
        },
        {
          "output_type": "stream",
          "name": "stderr",
          "text": [
            "/usr/local/lib/python3.10/dist-packages/IPython/core/interactiveshell.py:3561: UserWarning: To exit: use 'exit', 'quit', or Ctrl-D.\n",
            "  warn(\"To exit: use 'exit', 'quit', or Ctrl-D.\", stacklevel=1)\n"
          ]
        }
      ],
      "source": [
        "\n",
        "from __future__ import print_function\n",
        "\n",
        "import datetime  # Load the library module\n",
        "import os  # Load the library module\n",
        "import sys  # Load the library module\n",
        "\n",
        "# Script Name   : new_script.py\n",
        "# Author            : Craig Richards\n",
        "# Created           : 20th November 2012\n",
        "# Last Modified :\n",
        "# Version           : 1.0\n",
        "# Modifications :\n",
        "# Description       : This will create a new basic template for a new script\n",
        "\n",
        "text = '''You need to pass an argument for the new script you want to create, followed by the script name.  You can use\n",
        "    -python : Python Script\n",
        "    -bash   : Bash Script\n",
        "    -ksh    : Korn Shell Script\n",
        "    -sql    : SQL Script'''\n",
        "\n",
        "if len(sys.argv) < 3:\n",
        "    print(text)\n",
        "    sys.exit()\n",
        "\n",
        "if '-h' in sys.argv or '--h' in sys.argv or '-help' in sys.argv or '--help' in sys.argv:\n",
        "    print(text)\n",
        "    sys.exit()\n",
        "else:\n",
        "    if '-python' in sys.argv[1]:\n",
        "        config_file = \"python.cfg\"\n",
        "        extension = \".py\"\n",
        "    elif '-bash' in sys.argv[1]:\n",
        "        config_file = \"bash.cfg\"\n",
        "        extension = \".bash\"\n",
        "    elif '-ksh' in sys.argv[1]:\n",
        "        config_file = \"ksh.cfg\"\n",
        "        extension = \".ksh\"\n",
        "    elif '-sql' in sys.argv[1]:\n",
        "        config_file = \"sql.cfg\"\n",
        "        extension = \".sql\"\n",
        "    else:\n",
        "        print('Unknown option - ' + text)\n",
        "        sys.exit()\n",
        "\n",
        "confdir = os.getenv(\"my_config\")\n",
        "scripts = os.getenv(\"scripts\")\n",
        "dev_dir = \"Development\"\n",
        "newfile = sys.argv[2]\n",
        "output_file = (newfile + extension)\n",
        "outputdir = os.path.join(scripts, dev_dir)\n",
        "script = os.path.join(outputdir, output_file)\n",
        "input_file = os.path.join(confdir, config_file)\n",
        "old_text = \" Script Name    : \"\n",
        "new_text = (\" Script Name   : \" + output_file)\n",
        "if not (os.path.exists(outputdir)):\n",
        "    os.mkdir(outputdir)\n",
        "newscript = open(script, 'w')\n",
        "input = open(input_file, 'r')\n",
        "today = datetime.date.today()\n",
        "old_date = \" Created    :\"\n",
        "new_date = (\" Created   : \" + today.strftime(\"%d %B %Y\"))\n",
        "\n",
        "for line in input:\n",
        "    line = line.replace(old_text, new_text)\n",
        "    line = line.replace(old_date, new_date)\n",
        "    newscript.write(line)"
      ]
    }
  ]
}