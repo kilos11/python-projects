{
  "nbformat": 4,
  "nbformat_minor": 0,
  "metadata": {
    "colab": {
      "provenance": [],
      "authorship_tag": "ABX9TyNvChhKrgcRxsOSfaxiSdUE",
      "include_colab_link": true
    },
    "kernelspec": {
      "name": "python3",
      "display_name": "Python 3"
    },
    "language_info": {
      "name": "python"
    }
  },
  "cells": [
    {
      "cell_type": "markdown",
      "metadata": {
        "id": "view-in-github",
        "colab_type": "text"
      },
      "source": [
        "<a href=\"https://colab.research.google.com/github/kilos11/python-projects/blob/main/Analog_Clock.ipynb\" target=\"_parent\"><img src=\"https://colab.research.google.com/assets/colab-badge.svg\" alt=\"Open In Colab\"/></a>"
      ]
    },
    {
      "cell_type": "code",
      "execution_count": null,
      "metadata": {
        "id": "m_C9BI2dsWp-"
      },
      "outputs": [],
      "source": [
        "import tkinter as tk\n",
        "from math import sin, cos, pi\n"
      ]
    },
    {
      "cell_type": "code",
      "source": [
        "def update_clock():\n",
        "    current_time = time_var.get()\n",
        "    seconds = current_time % 60\n",
        "    minutes = (current_time // 60) % 60\n",
        "    hours = (current_time // 3600) % 12\n",
        "\n",
        "    seconds_angle = 90 - seconds * 6\n",
        "    minutes_angle = 90 - minutes * 6 - seconds * 0.1\n",
        "    hours_angle = 90 - (hours * 30 + minutes * 0.5)\n",
        "\n",
        "    canvas.delete(\"all\")\n",
        "\n",
        "    canvas.create_oval(50, 50, 250, 250)\n",
        "\n",
        "    for i in range(1, 13):\n",
        "        angle = 90 - i * 30\n",
        "        x = 150 + 85 * cos(angle * (pi / 180))\n",
        "        y = 150 - 85 * sin(angle * (pi / 180))\n",
        "        canvas.create_text(x, y, text=str(i), font=(\"Arial\", 12, \"bold\"))\n",
        "\n",
        "    draw_hand(150, 150, seconds_angle, 80, 1)\n",
        "    draw_hand(150, 150, minutes_angle, 70, 2)\n",
        "    draw_hand(150, 150, hours_angle, 50, 4)\n",
        "\n",
        "    time_var.set(current_time + 1)\n",
        "\n",
        "    root.after(1000, update_clock)"
      ],
      "metadata": {
        "id": "jts2s92Bsnyx"
      },
      "execution_count": null,
      "outputs": []
    },
    {
      "cell_type": "code",
      "source": [
        "def draw_hand(x, y, angle, length, width):\n",
        "    radian_angle = angle * (pi / 180)\n",
        "    end_x = x + length * cos(radian_angle)\n",
        "    end_y = y - length * sin(radian_angle)\n",
        "    canvas.create_line(x, y, end_x, end_y, width=width)\n"
      ],
      "metadata": {
        "id": "uWHrD_rfsr_9"
      },
      "execution_count": null,
      "outputs": []
    },
    {
      "cell_type": "code",
      "source": [
        "root = tk.Tk()\n",
        "root.title(\"Analog Clock\")\n",
        "\n",
        "canvas = tk.Canvas(root, width=350, height=350)\n",
        "canvas.pack()\n",
        "\n",
        "time_var = tk.IntVar()\n",
        "time_var.set(10 * 3600)\n",
        "\n",
        "update_clock()\n",
        "root.mainloop()"
      ],
      "metadata": {
        "colab": {
          "base_uri": "https://localhost:8080/",
          "height": 140
        },
        "id": "lfmt5XeGs4GF",
        "outputId": "2b82c3cd-4714-4fa4-e760-4434133fced9"
      },
      "execution_count": null,
      "outputs": [
        {
          "output_type": "error",
          "ename": "SyntaxError",
          "evalue": "invalid syntax. Perhaps you forgot a comma? (<ipython-input-7-880da9437e5d>, line 1)",
          "traceback": [
            "\u001b[0;36m  File \u001b[0;32m\"<ipython-input-7-880da9437e5d>\"\u001b[0;36m, line \u001b[0;32m1\u001b[0m\n\u001b[0;31m    root = tk.Tk(export DISPLAY=:1)\u001b[0m\n\u001b[0m                 ^\u001b[0m\n\u001b[0;31mSyntaxError\u001b[0m\u001b[0;31m:\u001b[0m invalid syntax. Perhaps you forgot a comma?\n"
          ]
        }
      ]
    }
  ]
}