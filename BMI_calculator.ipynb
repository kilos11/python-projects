{
  "nbformat": 4,
  "nbformat_minor": 0,
  "metadata": {
    "colab": {
      "provenance": [],
      "authorship_tag": "ABX9TyNlLnkP5tgvaWGuCbvtTNF/",
      "include_colab_link": true
    },
    "kernelspec": {
      "name": "python3",
      "display_name": "Python 3"
    },
    "language_info": {
      "name": "python"
    }
  },
  "cells": [
    {
      "cell_type": "markdown",
      "metadata": {
        "id": "view-in-github",
        "colab_type": "text"
      },
      "source": [
        "<a href=\"https://colab.research.google.com/github/kilos11/python-projects/blob/main/BMI_calculator.ipynb\" target=\"_parent\"><img src=\"https://colab.research.google.com/assets/colab-badge.svg\" alt=\"Open In Colab\"/></a>"
      ]
    },
    {
      "cell_type": "code",
      "execution_count": 1,
      "metadata": {
        "id": "4kivgdLPvLuy"
      },
      "outputs": [],
      "source": [
        "def calculate_bmi(height, weight):\n",
        "    \"\"\"\n",
        "    Calculate BMI given height (in meters) and weight (in kilograms).\n",
        "\n",
        "    Args:\n",
        "        height (float): Height in meters.\n",
        "        weight (float): Weight in kilograms.\n",
        "\n",
        "    Returns:\n",
        "        float: Calculated BMI.\n",
        "    \"\"\"\n",
        "    try:\n",
        "        bmi = round(weight / (height**2), 2)\n",
        "        return bmi\n",
        "    except ZeroDivisionError:\n",
        "        return None\n"
      ]
    },
    {
      "cell_type": "code",
      "source": [
        "def interpret_bmi(bmi):\n",
        "    \"\"\"\n",
        "    Interpret the BMI and provide a classification.\n",
        "\n",
        "    Args:\n",
        "        bmi (float): Calculated BMI.\n",
        "\n",
        "    Returns:\n",
        "        str: BMI interpretation.\n",
        "    \"\"\"\n",
        "    if bmi is None:\n",
        "        return \"Invalid input. Height should be greater than 0.\"\n",
        "\n",
        "    if bmi < 18.5:\n",
        "        return f\"Your BMI is {bmi}, you are underweight.\"\n",
        "    elif bmi < 24.9:\n",
        "        return f\"Your BMI is {bmi}, you have a normal weight.\"\n",
        "    elif bmi < 29.9:\n",
        "        return f\"Your BMI is {bmi}, you are overweight.\"\n",
        "    elif bmi < 34.9:\n",
        "        return f\"Your BMI is {bmi}, you are obese (Class I).\"\n",
        "    elif bmi < 39.9:\n",
        "        return f\"Your BMI is {bmi}, you are obese (Class II).\"\n",
        "    else:\n",
        "        return f\"Your BMI is {bmi}, you are obese (Class III).\"\n",
        "\n"
      ],
      "metadata": {
        "id": "8jg6p4DvvTb4"
      },
      "execution_count": 2,
      "outputs": []
    },
    {
      "cell_type": "markdown",
      "source": [],
      "metadata": {
        "id": "uS9NL_mdyxtE"
      }
    },
    {
      "cell_type": "code",
      "source": [
        "def main():\n",
        "    try:\n",
        "        height = float(input(\"Enter your height in meters: \"))\n",
        "        weight = float(input(\"Enter your weight in kilograms: \"))\n",
        "\n",
        "        bmi = calculate_bmi(height, weight)\n",
        "        result = interpret_bmi(bmi)\n",
        "        print(result)\n",
        "\n",
        "    except ValueError:\n",
        "        print(\"Invalid input. Please enter numerical values for height and weight.\")\n",
        "\n",
        "\n",
        "if __name__ == \"__main__\":\n",
        "    main()"
      ],
      "metadata": {
        "id": "FfhxRTxfvyMv"
      },
      "execution_count": null,
      "outputs": []
    },
    {
      "cell_type": "code",
      "source": [],
      "metadata": {
        "id": "44wPIQWSywT9"
      },
      "execution_count": null,
      "outputs": []
    }
  ]
}