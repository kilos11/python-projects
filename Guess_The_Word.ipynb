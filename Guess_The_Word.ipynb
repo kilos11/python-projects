{
  "nbformat": 4,
  "nbformat_minor": 0,
  "metadata": {
    "colab": {
      "provenance": [],
      "authorship_tag": "ABX9TyOMzzo21yeZMx8OwsvqzTvO",
      "include_colab_link": true
    },
    "kernelspec": {
      "name": "python3",
      "display_name": "Python 3"
    },
    "language_info": {
      "name": "python"
    }
  },
  "cells": [
    {
      "cell_type": "markdown",
      "metadata": {
        "id": "view-in-github",
        "colab_type": "text"
      },
      "source": [
        "<a href=\"https://colab.research.google.com/github/kilos11/python-projects/blob/main/Guess_The_Word.ipynb\" target=\"_parent\"><img src=\"https://colab.research.google.com/assets/colab-badge.svg\" alt=\"Open In Colab\"/></a>"
      ]
    },
    {
      "cell_type": "code",
      "execution_count": null,
      "metadata": {
        "id": "CvWVFPw6Dzv5"
      },
      "outputs": [],
      "source": [
        "import random"
      ]
    },
    {
      "cell_type": "code",
      "source": [
        "# List of words for the game\n",
        "word_list = [\n",
        "    \"python\",\n",
        "    \"java\",\n",
        "    \"javascript\",\n",
        "    \"ruby\",\n",
        "    \"php\",\n",
        "    \"html\",\n",
        "    \"css\",\n",
        "    \"csharp\",\n",
        "    \"angular\",\n",
        "    \"golang\",\n",
        "    \"c\",\n",
        "    \"dotnet\",\n",
        "    \"perl\",\n",
        "    \"rust\",\n",
        "    \"scala\",\n",
        "    \"dart\",\n",
        "    \"fortran\",\n",
        "    \"cobol\",\n",
        "    \"haskell\",\n",
        "]"
      ],
      "metadata": {
        "id": "Fv2plu_REFCz"
      },
      "execution_count": null,
      "outputs": []
    },
    {
      "cell_type": "code",
      "source": [
        "# Function to choose a random word from the list\n",
        "def choose_random_word(word_list):\n",
        "    return random.choice(word_list)\n"
      ],
      "metadata": {
        "id": "wasFz0awEHuR"
      },
      "execution_count": null,
      "outputs": []
    },
    {
      "cell_type": "code",
      "source": [
        "# Function to play the word guessing game\n",
        "def word_guessing_game():\n",
        "    word_to_guess = choose_random_word(word_list)\n",
        "    guessed_letters = []\n",
        "    attempts = 6\n",
        "\n",
        "    print(\"Welcome to the Word Guessing Game!\")\n",
        "    print(\"You have 6 attempts to guess the word.\")\n",
        "    print(\"_ \" * len(word_to_guess))\n",
        "\n",
        "    while attempts > 0:\n",
        "        guess = input(\"Guess a letter: \").lower()\n",
        "\n",
        "        if len(guess) != 1 or not guess.isalpha():\n",
        "            print(\"Please enter a single letter.\")\n",
        "            continue\n",
        "\n",
        "        if guess in guessed_letters:\n",
        "            print(\"You've already guessed that letter.\")\n",
        "            continue\n",
        "\n",
        "        guessed_letters.append(guess)\n",
        "\n",
        "        if guess in word_to_guess:\n",
        "            print(\"Correct guess!\")\n",
        "            remaining_letters = [\n",
        "                letter if letter in guessed_letters else \"_\" for letter in word_to_guess\n",
        "            ]\n",
        "            print(\" \".join(remaining_letters))\n",
        "            if \"_\" not in remaining_letters:\n",
        "                print(\"Congratulations! You've guessed the word:\", word_to_guess)\n",
        "                break\n",
        "        else:\n",
        "            attempts -= 1\n",
        "            if attempts < 3:\n",
        "                print(f\"It is a name of a programming language\")\n",
        "            print(f\"Wrong guess. You have {attempts} attempts remaining.\")\n",
        "\n",
        "    if attempts == 0:\n",
        "        print(\"You've run out of attempts. The word was:\", word_to_guess)\n"
      ],
      "metadata": {
        "id": "_JE9SAQDENCb"
      },
      "execution_count": null,
      "outputs": []
    },
    {
      "cell_type": "code",
      "source": [
        "# Start the game\n",
        "word_guessing_game()"
      ],
      "metadata": {
        "id": "PezCtj4WES6B",
        "colab": {
          "base_uri": "https://localhost:8080/"
        },
        "outputId": "93cf687d-e7eb-4c0f-fbc4-4515999a61d8"
      },
      "execution_count": null,
      "outputs": [
        {
          "output_type": "stream",
          "name": "stdout",
          "text": [
            "Welcome to the Word Guessing Game!\n",
            "You have 6 attempts to guess the word.\n",
            "_ _ _ _ _ \n"
          ]
        }
      ]
    }
  ]
}