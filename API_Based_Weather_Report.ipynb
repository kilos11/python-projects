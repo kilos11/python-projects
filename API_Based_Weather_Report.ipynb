{
  "nbformat": 4,
  "nbformat_minor": 0,
  "metadata": {
    "colab": {
      "provenance": [],
      "authorship_tag": "ABX9TyP7AELDXCcXNn4yHLQ7R+b0",
      "include_colab_link": true
    },
    "kernelspec": {
      "name": "python3",
      "display_name": "Python 3"
    },
    "language_info": {
      "name": "python"
    }
  },
  "cells": [
    {
      "cell_type": "markdown",
      "metadata": {
        "id": "view-in-github",
        "colab_type": "text"
      },
      "source": [
        "<a href=\"https://colab.research.google.com/github/kilos11/python-projects/blob/main/API_Based_Weather_Report.ipynb\" target=\"_parent\"><img src=\"https://colab.research.google.com/assets/colab-badge.svg\" alt=\"Open In Colab\"/></a>"
      ]
    },
    {
      "cell_type": "code",
      "execution_count": 1,
      "metadata": {
        "id": "PlKjnlMzaOST"
      },
      "outputs": [],
      "source": [
        "import requests\n",
        "import os\n",
        "from datetime import datetime"
      ]
    },
    {
      "cell_type": "code",
      "source": [
        "api_key = \"Enter your api key here\"\n",
        "location = input(\"\\nEnter the city name   : \")"
      ],
      "metadata": {
        "id": "7tACc5GYakNH"
      },
      "execution_count": null,
      "outputs": []
    },
    {
      "cell_type": "code",
      "source": [
        "complete_api_link = (\n",
        "    \"https://api.openweathermap.org/data/2.5/weather?q=\"\n",
        "    + location\n",
        "    + \"&appid=\"\n",
        "    + api_key\n",
        ")\n",
        "api_link = requests.get(complete_api_link)\n",
        "api_data = api_link.json()\n"
      ],
      "metadata": {
        "id": "dkl16PNuaomN"
      },
      "execution_count": null,
      "outputs": []
    },
    {
      "cell_type": "code",
      "source": [
        "# create variables to store and display data\n",
        "\n",
        "try:\n",
        "    temp_city = (api_data[\"main\"][\"temp\"]) - 273.15\n",
        "    weather_desc = api_data[\"weather\"][0][\"description\"]\n",
        "    hmdt = api_data[\"main\"][\"humidity\"]\n",
        "    wind_spd = api_data[\"wind\"][\"speed\"]\n",
        "    date_time = datetime.now().strftime(\"%d %b %Y | %I:%M:%S %p\")\n",
        "\n",
        "    f = open(\"wetherinfo.txt\", \"w+\")\n",
        "    f.write(\"-------------------------------------------------------------\\n\")\n",
        "    f.write(\"Weather Stats for - {}  || {}\\n\".format(location.upper(), date_time))\n",
        "    f.write(\"-------------------------------------------------------------\\n\")\n",
        "\n",
        "    f.write(\"\\tCurrent temperature is : {:.2f} °C\\n\".format(temp_city))\n",
        "    f.write(\"\\tCurrent weather desc   : \" + weather_desc + \"\\n\")\n",
        "    f.write(\"\\tCurrent Humidity       : {} %\\n\".format(hmdt))\n",
        "    f.write(\"\\tCurrent wind speed     : {} km/h \\n\".format(wind_spd))\n",
        "    f.close()\n",
        "    print(\"Current temperature is: {:.2f} °C\".format(temp_city))\n",
        "    print(\"Current weather desc  : \" + weather_desc)\n",
        "    print(\"Current Humidity      :\", hmdt, \"%\")\n",
        "    print(\"Current wind speed    :\", wind_spd, \"kmph\")\n",
        "\n",
        "except KeyError as KE:\n",
        "    print(\"Enter a valid city\")"
      ],
      "metadata": {
        "id": "3CEYjAysat8V"
      },
      "execution_count": null,
      "outputs": []
    }
  ]
}