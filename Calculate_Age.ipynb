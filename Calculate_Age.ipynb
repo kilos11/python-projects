{
  "nbformat": 4,
  "nbformat_minor": 0,
  "metadata": {
    "colab": {
      "provenance": [],
      "authorship_tag": "ABX9TyOx9Qog8wG6RAk0YZ3SBCs3",
      "include_colab_link": true
    },
    "kernelspec": {
      "name": "python3",
      "display_name": "Python 3"
    },
    "language_info": {
      "name": "python"
    }
  },
  "cells": [
    {
      "cell_type": "markdown",
      "metadata": {
        "id": "view-in-github",
        "colab_type": "text"
      },
      "source": [
        "<a href=\"https://colab.research.google.com/github/kilos11/python-projects/blob/main/Calculate_Age.ipynb\" target=\"_parent\"><img src=\"https://colab.research.google.com/assets/colab-badge.svg\" alt=\"Open In Colab\"/></a>"
      ]
    },
    {
      "cell_type": "code",
      "source": [
        "import time\n",
        "from calendar import isleap\n"
      ],
      "metadata": {
        "id": "lUga71sc8zNx"
      },
      "execution_count": 13,
      "outputs": []
    },
    {
      "cell_type": "code",
      "source": [
        "# judge the leap year\n",
        "def judge_leap_year(year):\n",
        "    if isleap(year):\n",
        "        return True\n",
        "    else:\n",
        "        return False"
      ],
      "metadata": {
        "id": "UoaCKXx__20P"
      },
      "execution_count": 14,
      "outputs": []
    },
    {
      "cell_type": "code",
      "source": [
        "# returns the number of days in each month\n",
        "def month_days(month, leap_year):\n",
        "    if month in [1, 3, 5, 7, 8, 10, 12]:\n",
        "        return 31\n",
        "    elif month in [4, 6, 9, 11]:\n",
        "        return 30\n",
        "    elif month == 2 and leap_year:\n",
        "        return 29\n",
        "    elif month == 2 and (not leap_year):\n",
        "        return 28\n"
      ],
      "metadata": {
        "id": "sJR21bpG__Pu"
      },
      "execution_count": 15,
      "outputs": []
    },
    {
      "cell_type": "code",
      "source": [
        "name = input(\"input your name: \")\n",
        "age = input(\"input your age: \")\n",
        "localtime = time.localtime(time.time())\n",
        "\n",
        "year = int(age)\n",
        "month = year * 12 + localtime.tm_mon\n",
        "day = 0\n",
        "\n",
        "begin_year = int(localtime.tm_year) - year\n",
        "end_year = begin_year + year"
      ],
      "metadata": {
        "colab": {
          "base_uri": "https://localhost:8080/"
        },
        "id": "bbB4y13fABDe",
        "outputId": "d2a32b8a-f77f-4b92-a96b-8d72e386922d"
      },
      "execution_count": 16,
      "outputs": [
        {
          "name": "stdout",
          "output_type": "stream",
          "text": [
            "input your name: kgaogelo\n",
            "input your age: 38\n"
          ]
        }
      ]
    },
    {
      "cell_type": "code",
      "source": [
        "# calculate the days\n",
        "for y in range(begin_year, end_year):\n",
        "    if judge_leap_year(y):\n",
        "        day = day + 366\n",
        "    else:\n",
        "        day = day + 365"
      ],
      "metadata": {
        "id": "GGDf4YE3AS1_"
      },
      "execution_count": 17,
      "outputs": []
    },
    {
      "cell_type": "code",
      "source": [
        "leap_year = judge_leap_year(localtime.tm_year)\n",
        "for m in range(1, localtime.tm_mon):\n",
        "    day = day + month_days(m, leap_year)"
      ],
      "metadata": {
        "id": "N0TA4NvtAaL4"
      },
      "execution_count": 18,
      "outputs": []
    },
    {
      "cell_type": "code",
      "source": [
        "day = day + localtime.tm_mday\n",
        "print(\"%s's age is %d years or \" % (name, year), end=\"\")\n",
        "print(\"%d months or %d days\" % (month, day))"
      ],
      "metadata": {
        "colab": {
          "base_uri": "https://localhost:8080/"
        },
        "id": "PqxOU5U7Ad02",
        "outputId": "528dc54d-8942-4a3a-9bdf-666e234942ca"
      },
      "execution_count": 19,
      "outputs": [
        {
          "output_type": "stream",
          "name": "stdout",
          "text": [
            "kgaogelo's age is 38 years or 457 months or 13899 days\n"
          ]
        }
      ]
    }
  ]
}