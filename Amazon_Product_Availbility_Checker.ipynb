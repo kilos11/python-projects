{
  "nbformat": 4,
  "nbformat_minor": 0,
  "metadata": {
    "colab": {
      "provenance": [],
      "authorship_tag": "ABX9TyO0NjN/2N3L2fF2wo2JK052",
      "include_colab_link": true
    },
    "kernelspec": {
      "name": "python3",
      "display_name": "Python 3"
    },
    "language_info": {
      "name": "python"
    }
  },
  "cells": [
    {
      "cell_type": "markdown",
      "metadata": {
        "id": "view-in-github",
        "colab_type": "text"
      },
      "source": [
        "<a href=\"https://colab.research.google.com/github/kilos11/python-projects/blob/main/Amazon_Product_Availbility_Checker.ipynb\" target=\"_parent\"><img src=\"https://colab.research.google.com/assets/colab-badge.svg\" alt=\"Open In Colab\"/></a>"
      ]
    },
    {
      "cell_type": "code",
      "source": [
        "import requests\n",
        "from bs4 import BeautifulSoup"
      ],
      "metadata": {
        "id": "orFmopm7eI42"
      },
      "execution_count": 7,
      "outputs": []
    },
    {
      "cell_type": "code",
      "source": [
        "def check_amazon_availability(product_url):\n",
        "    headers = {\n",
        "        \"User-Agent\": \"Your User Agent Here\"  # Replace with a valid user agent string\n",
        "    }\n",
        "\n",
        "    try:\n",
        "        response = requests.get(product_url, headers=headers)\n",
        "        response.raise_for_status()\n",
        "\n",
        "        soup = BeautifulSoup(response.content, \"html.parser\")\n",
        "\n",
        "        title = soup.find(\"span\", {\"id\": \"productTitle\"}).get_text(strip=True)\n",
        "        availability = soup.find(\n",
        "            \"span\", {\"class\": \"a-declarative\", \"data-asin\": True}\n",
        "        ).get_text(strip=True)\n",
        "\n",
        "        if \"out of stock\" in availability.lower():\n",
        "            print(f\"{title} is currently out of stock on Amazon.\")\n",
        "        else:\n",
        "            print(f\"{title} is available on Amazon.\")\n",
        "\n",
        "    except requests.exceptions.HTTPError as http_err:\n",
        "        print(f\"HTTP error occurred: {http_err}\")\n",
        "    except requests.exceptions.RequestException as req_err:\n",
        "        print(f\"Request error occurred: {req_err}\")\n",
        "\n",
        "\n",
        "if __name__ == \"__main__\":\n",
        "    product_url = \"YOUR_PRODUCT_URL_HERE\"\n",
        "    check_amazon_availability(product_url)"
      ],
      "metadata": {
        "colab": {
          "base_uri": "https://localhost:8080/"
        },
        "id": "vw-qp224fEX2",
        "outputId": "8ed0e282-4b3d-47c9-d3ef-c39214bb9dd2"
      },
      "execution_count": 8,
      "outputs": [
        {
          "output_type": "stream",
          "name": "stdout",
          "text": [
            "Request error occurred: Invalid URL 'YOUR_PRODUCT_URL_HERE': No scheme supplied. Perhaps you meant https://YOUR_PRODUCT_URL_HERE?\n"
          ]
        }
      ]
    }
  ]
}