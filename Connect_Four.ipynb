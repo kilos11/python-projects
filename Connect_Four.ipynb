{
  "nbformat": 4,
  "nbformat_minor": 0,
  "metadata": {
    "colab": {
      "provenance": [],
      "authorship_tag": "ABX9TyOU+EDyt2iUcINch5tgwekR",
      "include_colab_link": true
    },
    "kernelspec": {
      "name": "python3",
      "display_name": "Python 3"
    },
    "language_info": {
      "name": "python"
    }
  },
  "cells": [
    {
      "cell_type": "markdown",
      "metadata": {
        "id": "view-in-github",
        "colab_type": "text"
      },
      "source": [
        "<a href=\"https://colab.research.google.com/github/kilos11/python-projects/blob/main/Connect_Four.ipynb\" target=\"_parent\"><img src=\"https://colab.research.google.com/assets/colab-badge.svg\" alt=\"Open In Colab\"/></a>"
      ]
    },
    {
      "cell_type": "code",
      "execution_count": 1,
      "metadata": {
        "colab": {
          "base_uri": "https://localhost:8080/"
        },
        "id": "HuJHKQtJMRPG",
        "outputId": "abb83e9e-469e-4b9f-e725-f996f890225e"
      },
      "outputs": [
        {
          "output_type": "stream",
          "name": "stdout",
          "text": [
            "pygame 2.5.2 (SDL 2.28.2, Python 3.10.12)\n",
            "Hello from the pygame community. https://www.pygame.org/contribute.html\n"
          ]
        }
      ],
      "source": [
        "import numpy as np\n",
        "import pygame\n",
        "import sys\n",
        "import math\n"
      ]
    },
    {
      "cell_type": "code",
      "source": [
        "BLUE = (0, 0, 255)\n",
        "BLACK = (0, 0, 0)\n",
        "RED = (255, 0, 0)\n",
        "YELLOW = (255, 255, 0)\n",
        "\n",
        "ROW_COUNT = 6\n",
        "COLUMN_COUNT = 7\n"
      ],
      "metadata": {
        "id": "emCog1WPMjSV"
      },
      "execution_count": 2,
      "outputs": []
    },
    {
      "cell_type": "code",
      "source": [
        "def create_board():\n",
        "    board = np.zeros((ROW_COUNT, COLUMN_COUNT))\n",
        "    return board\n",
        "\n",
        "\n",
        "def drop_piece(board, row, col, piece):\n",
        "    board[row][col] = piece\n",
        "\n",
        "\n",
        "def is_valid_location(board, col):\n",
        "    return board[ROW_COUNT - 1][col] == 0\n",
        "\n",
        "def get_next_open_row(board, col):\n",
        "    for r in range(ROW_COUNT):\n",
        "        if board[r][col] == 0:\n",
        "            return r\n",
        "\n",
        "\n",
        "def print_board(board):\n",
        "    print(np.flip(board, 0))\n"
      ],
      "metadata": {
        "id": "_FZvbJ_GMnRh"
      },
      "execution_count": 4,
      "outputs": []
    },
    {
      "cell_type": "code",
      "source": [
        "def winning_move(board, piece):\n",
        "    # Check horizontal locations for win\n",
        "    for c in range(COLUMN_COUNT - 3):\n",
        "        for r in range(ROW_COUNT):\n",
        "            if (\n",
        "                board[r][c] == piece\n",
        "                and board[r][c + 1] == piece\n",
        "                and board[r][c + 2] == piece\n",
        "                and board[r][c + 3] == piece\n",
        "            ):\n",
        "                return True\n",
        "\n",
        "    # Check vertical locations for win\n",
        "    for c in range(COLUMN_COUNT):\n",
        "        for r in range(ROW_COUNT - 3):\n",
        "            if (\n",
        "                board[r][c] == piece\n",
        "                and board[r + 1][c] == piece\n",
        "                and board[r + 2][c] == piece\n",
        "                and board[r + 3][c] == piece\n",
        "            ):\n",
        "                return True\n",
        "\n",
        "    # Check positively sloped diaganols\n",
        "    for c in range(COLUMN_COUNT - 3):\n",
        "        for r in range(ROW_COUNT - 3):\n",
        "            if (\n",
        "                board[r][c] == piece\n",
        "                and board[r + 1][c + 1] == piece\n",
        "                and board[r + 2][c + 2] == piece\n",
        "                and board[r + 3][c + 3] == piece\n",
        "            ):\n",
        "                return True\n",
        "\n",
        "    # Check negatively sloped diaganols\n",
        "    for c in range(COLUMN_COUNT - 3):\n",
        "        for r in range(3, ROW_COUNT):\n",
        "            if (\n",
        "                board[r][c] == piece\n",
        "                and board[r - 1][c + 1] == piece\n",
        "                and board[r - 2][c + 2] == piece\n",
        "                and board[r - 3][c + 3] == piece\n",
        "            ):\n",
        "                return True\n"
      ],
      "metadata": {
        "id": "B1-0VSvhMs6q"
      },
      "execution_count": 5,
      "outputs": []
    },
    {
      "cell_type": "code",
      "source": [
        "def draw_board(board):\n",
        "    for c in range(COLUMN_COUNT):\n",
        "        for r in range(ROW_COUNT):\n",
        "            pygame.draw.rect(\n",
        "                screen,\n",
        "                BLUE,\n",
        "                (c * SQUARESIZE, r * SQUARESIZE + SQUARESIZE, SQUARESIZE, SQUARESIZE),\n",
        "            )\n",
        "            pygame.draw.circle(\n",
        "                screen,\n",
        "                BLACK,\n",
        "                (\n",
        "                    int(c * SQUARESIZE + SQUARESIZE / 2),\n",
        "                    int(r * SQUARESIZE + SQUARESIZE + SQUARESIZE / 2),\n",
        "                ),\n",
        "                RADIUS,\n",
        "            )\n",
        "\n",
        "    for c in range(COLUMN_COUNT):\n",
        "        for r in range(ROW_COUNT):\n",
        "            if board[r][c] == 1:\n",
        "                pygame.draw.circle(\n",
        "                    screen,\n",
        "                    RED,\n",
        "                    (\n",
        "                        int(c * SQUARESIZE + SQUARESIZE / 2),\n",
        "                        height - int(r * SQUARESIZE + SQUARESIZE / 2),\n",
        "                    ),\n",
        "                    RADIUS,\n",
        "                )\n",
        "            elif board[r][c] == 2:\n",
        "                pygame.draw.circle(\n",
        "                    screen,\n",
        "                    YELLOW,\n",
        "                    (\n",
        "                        int(c * SQUARESIZE + SQUARESIZE / 2),\n",
        "                        height - int(r * SQUARESIZE + SQUARESIZE / 2),\n",
        "                    ),\n",
        "                    RADIUS,\n",
        "                )\n",
        "    pygame.display.update()"
      ],
      "metadata": {
        "id": "75Tca21KM_W1"
      },
      "execution_count": null,
      "outputs": []
    }
  ]
}