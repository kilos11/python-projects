{
  "nbformat": 4,
  "nbformat_minor": 0,
  "metadata": {
    "colab": {
      "provenance": [],
      "mount_file_id": "15waauJhfGxSAAxeoeJ--JnBYECK2hy05",
      "authorship_tag": "ABX9TyPYOzXr8evIGTMAaefB6NZ1",
      "include_colab_link": true
    },
    "kernelspec": {
      "name": "python3",
      "display_name": "Python 3"
    },
    "language_info": {
      "name": "python"
    }
  },
  "cells": [
    {
      "cell_type": "markdown",
      "metadata": {
        "id": "view-in-github",
        "colab_type": "text"
      },
      "source": [
        "<a href=\"https://colab.research.google.com/github/kilos11/python-projects/blob/main/QR_decoder.ipynb\" target=\"_parent\"><img src=\"https://colab.research.google.com/assets/colab-badge.svg\" alt=\"Open In Colab\"/></a>"
      ]
    },
    {
      "cell_type": "code",
      "source": [
        "\n",
        "#Importing Required Modules\n",
        "import cv2\n",
        "\n",
        "#QR Code Decoder\n",
        "\n",
        "filename = input()\n",
        "image = cv2.imread(filename) #Enter name of the image\n",
        "detector = cv2.QRCodeDetector()\n",
        "data, vertices_array, binary_qrcode = detector.detectAndDecode(image)\n",
        "if vertices_array is not None:\n",
        "  print(data)"
      ],
      "metadata": {
        "colab": {
          "base_uri": "https://localhost:8080/"
        },
        "id": "m39PexuxShWq",
        "outputId": "4b438b52-e91d-49ae-ed05-eddd12bf84b1"
      },
      "execution_count": 12,
      "outputs": [
        {
          "name": "stdout",
          "output_type": "stream",
          "text": [
            "/content/drive/MyDrive/3 - Copy.jpg\n"
          ]
        }
      ]
    }
  ]
}